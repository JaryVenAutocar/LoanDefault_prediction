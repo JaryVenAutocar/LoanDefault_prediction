{
 "cells": [
  {
   "cell_type": "code",
   "execution_count": 1,
   "metadata": {},
   "outputs": [],
   "source": [
    "import pandas as pd\n",
    "import numpy as np\n",
    "from math import floor\n",
    "import matplotlib.pyplot as plt\n",
    "import pylab\n",
    "import sklearn\n",
    "from sklearn import linear_model\n",
    "from sklearn import preprocessing\n",
    "from sklearn.model_selection import train_test_split\n",
    "from sklearn.metrics import confusion_matrix\n",
    "from sklearn.metrics import accuracy_score\n",
    "from sklearn.metrics import precision_score\n",
    "from sklearn.metrics import recall_score\n",
    "from sklearn.metrics import f1_score"
   ]
  },
  {
   "cell_type": "code",
   "execution_count": 2,
   "metadata": {},
   "outputs": [
    {
     "data": {
      "text/html": [
       "<div>\n",
       "<style scoped>\n",
       "    .dataframe tbody tr th:only-of-type {\n",
       "        vertical-align: middle;\n",
       "    }\n",
       "\n",
       "    .dataframe tbody tr th {\n",
       "        vertical-align: top;\n",
       "    }\n",
       "\n",
       "    .dataframe thead th {\n",
       "        text-align: right;\n",
       "    }\n",
       "</style>\n",
       "<table border=\"1\" class=\"dataframe\">\n",
       "  <thead>\n",
       "    <tr style=\"text-align: right;\">\n",
       "      <th></th>\n",
       "      <th>person_age</th>\n",
       "      <th>person_income</th>\n",
       "      <th>person_home_ownership</th>\n",
       "      <th>person_emp_length</th>\n",
       "      <th>loan_intent</th>\n",
       "      <th>loan_grade</th>\n",
       "      <th>loan_amnt</th>\n",
       "      <th>loan_int_rate</th>\n",
       "      <th>loan_status</th>\n",
       "      <th>loan_percent_income</th>\n",
       "      <th>cb_person_default_on_file</th>\n",
       "      <th>cb_person_cred_hist_length</th>\n",
       "    </tr>\n",
       "  </thead>\n",
       "  <tbody>\n",
       "    <tr>\n",
       "      <td>0</td>\n",
       "      <td>22</td>\n",
       "      <td>59000</td>\n",
       "      <td>RENT</td>\n",
       "      <td>123.0</td>\n",
       "      <td>PERSONAL</td>\n",
       "      <td>D</td>\n",
       "      <td>35000</td>\n",
       "      <td>16.02</td>\n",
       "      <td>1</td>\n",
       "      <td>0.59</td>\n",
       "      <td>Y</td>\n",
       "      <td>3</td>\n",
       "    </tr>\n",
       "    <tr>\n",
       "      <td>1</td>\n",
       "      <td>21</td>\n",
       "      <td>9600</td>\n",
       "      <td>OWN</td>\n",
       "      <td>5.0</td>\n",
       "      <td>EDUCATION</td>\n",
       "      <td>B</td>\n",
       "      <td>1000</td>\n",
       "      <td>11.14</td>\n",
       "      <td>0</td>\n",
       "      <td>0.10</td>\n",
       "      <td>N</td>\n",
       "      <td>2</td>\n",
       "    </tr>\n",
       "    <tr>\n",
       "      <td>2</td>\n",
       "      <td>25</td>\n",
       "      <td>9600</td>\n",
       "      <td>MORTGAGE</td>\n",
       "      <td>1.0</td>\n",
       "      <td>MEDICAL</td>\n",
       "      <td>C</td>\n",
       "      <td>5500</td>\n",
       "      <td>12.87</td>\n",
       "      <td>1</td>\n",
       "      <td>0.57</td>\n",
       "      <td>N</td>\n",
       "      <td>3</td>\n",
       "    </tr>\n",
       "    <tr>\n",
       "      <td>3</td>\n",
       "      <td>23</td>\n",
       "      <td>65500</td>\n",
       "      <td>RENT</td>\n",
       "      <td>4.0</td>\n",
       "      <td>MEDICAL</td>\n",
       "      <td>C</td>\n",
       "      <td>35000</td>\n",
       "      <td>15.23</td>\n",
       "      <td>1</td>\n",
       "      <td>0.53</td>\n",
       "      <td>N</td>\n",
       "      <td>2</td>\n",
       "    </tr>\n",
       "    <tr>\n",
       "      <td>4</td>\n",
       "      <td>24</td>\n",
       "      <td>54400</td>\n",
       "      <td>RENT</td>\n",
       "      <td>8.0</td>\n",
       "      <td>MEDICAL</td>\n",
       "      <td>C</td>\n",
       "      <td>35000</td>\n",
       "      <td>14.27</td>\n",
       "      <td>1</td>\n",
       "      <td>0.55</td>\n",
       "      <td>Y</td>\n",
       "      <td>4</td>\n",
       "    </tr>\n",
       "  </tbody>\n",
       "</table>\n",
       "</div>"
      ],
      "text/plain": [
       "   person_age  person_income person_home_ownership  person_emp_length  \\\n",
       "0          22          59000                  RENT              123.0   \n",
       "1          21           9600                   OWN                5.0   \n",
       "2          25           9600              MORTGAGE                1.0   \n",
       "3          23          65500                  RENT                4.0   \n",
       "4          24          54400                  RENT                8.0   \n",
       "\n",
       "  loan_intent loan_grade  loan_amnt  loan_int_rate  loan_status  \\\n",
       "0    PERSONAL          D      35000          16.02            1   \n",
       "1   EDUCATION          B       1000          11.14            0   \n",
       "2     MEDICAL          C       5500          12.87            1   \n",
       "3     MEDICAL          C      35000          15.23            1   \n",
       "4     MEDICAL          C      35000          14.27            1   \n",
       "\n",
       "   loan_percent_income cb_person_default_on_file  cb_person_cred_hist_length  \n",
       "0                 0.59                         Y                           3  \n",
       "1                 0.10                         N                           2  \n",
       "2                 0.57                         N                           3  \n",
       "3                 0.53                         N                           2  \n",
       "4                 0.55                         Y                           4  "
      ]
     },
     "execution_count": 2,
     "metadata": {},
     "output_type": "execute_result"
    }
   ],
   "source": [
    "df = pd.read_csv(\"credit_risk_dataset.csv\")  \n",
    "df.head()"
   ]
  },
  {
   "cell_type": "code",
   "execution_count": 3,
   "metadata": {},
   "outputs": [],
   "source": [
    "#on enlève les fausses données\n",
    "cleandf = df[df['person_emp_length'] < 100]\n",
    "cleandf = cleandf[cleandf['person_age'] <100]\n",
    "cleandf = cleandf[cleandf['loan_int_rate'].isnull() == False]\n",
    "cleandf = cleandf[cleandf['person_emp_length'].isnull() == False]\n",
    "cleandf = cleandf[cleandf['person_income'] < 493746] #on enlève le 0.1% des revenus max"
   ]
  },
  {
   "cell_type": "code",
   "execution_count": 4,
   "metadata": {},
   "outputs": [
    {
     "data": {
      "text/html": [
       "<div>\n",
       "<style scoped>\n",
       "    .dataframe tbody tr th:only-of-type {\n",
       "        vertical-align: middle;\n",
       "    }\n",
       "\n",
       "    .dataframe tbody tr th {\n",
       "        vertical-align: top;\n",
       "    }\n",
       "\n",
       "    .dataframe thead th {\n",
       "        text-align: right;\n",
       "    }\n",
       "</style>\n",
       "<table border=\"1\" class=\"dataframe\">\n",
       "  <thead>\n",
       "    <tr style=\"text-align: right;\">\n",
       "      <th></th>\n",
       "      <th>person_age</th>\n",
       "      <th>person_income</th>\n",
       "      <th>person_emp_length</th>\n",
       "      <th>loan_amnt</th>\n",
       "      <th>loan_int_rate</th>\n",
       "      <th>loan_status</th>\n",
       "      <th>loan_percent_income</th>\n",
       "      <th>cb_person_cred_hist_length</th>\n",
       "    </tr>\n",
       "  </thead>\n",
       "  <tbody>\n",
       "    <tr>\n",
       "      <td>count</td>\n",
       "      <td>28583.000000</td>\n",
       "      <td>28583.000000</td>\n",
       "      <td>28583.000000</td>\n",
       "      <td>28583.000000</td>\n",
       "      <td>28583.000000</td>\n",
       "      <td>28583.000000</td>\n",
       "      <td>28583.000000</td>\n",
       "      <td>28583.000000</td>\n",
       "    </tr>\n",
       "    <tr>\n",
       "      <td>mean</td>\n",
       "      <td>27.692964</td>\n",
       "      <td>65236.540741</td>\n",
       "      <td>4.775531</td>\n",
       "      <td>9647.596473</td>\n",
       "      <td>11.039414</td>\n",
       "      <td>0.216772</td>\n",
       "      <td>0.169744</td>\n",
       "      <td>5.782073</td>\n",
       "    </tr>\n",
       "    <tr>\n",
       "      <td>std</td>\n",
       "      <td>6.149342</td>\n",
       "      <td>40711.977125</td>\n",
       "      <td>4.031130</td>\n",
       "      <td>6319.450980</td>\n",
       "      <td>3.230047</td>\n",
       "      <td>0.412053</td>\n",
       "      <td>0.106272</td>\n",
       "      <td>4.023580</td>\n",
       "    </tr>\n",
       "    <tr>\n",
       "      <td>min</td>\n",
       "      <td>20.000000</td>\n",
       "      <td>4000.000000</td>\n",
       "      <td>0.000000</td>\n",
       "      <td>500.000000</td>\n",
       "      <td>5.420000</td>\n",
       "      <td>0.000000</td>\n",
       "      <td>0.010000</td>\n",
       "      <td>2.000000</td>\n",
       "    </tr>\n",
       "    <tr>\n",
       "      <td>25%</td>\n",
       "      <td>23.000000</td>\n",
       "      <td>39306.000000</td>\n",
       "      <td>2.000000</td>\n",
       "      <td>5000.000000</td>\n",
       "      <td>7.900000</td>\n",
       "      <td>0.000000</td>\n",
       "      <td>0.090000</td>\n",
       "      <td>3.000000</td>\n",
       "    </tr>\n",
       "    <tr>\n",
       "      <td>50%</td>\n",
       "      <td>26.000000</td>\n",
       "      <td>55600.000000</td>\n",
       "      <td>4.000000</td>\n",
       "      <td>8000.000000</td>\n",
       "      <td>10.990000</td>\n",
       "      <td>0.000000</td>\n",
       "      <td>0.150000</td>\n",
       "      <td>4.000000</td>\n",
       "    </tr>\n",
       "    <tr>\n",
       "      <td>75%</td>\n",
       "      <td>30.000000</td>\n",
       "      <td>80000.000000</td>\n",
       "      <td>7.000000</td>\n",
       "      <td>12500.000000</td>\n",
       "      <td>13.480000</td>\n",
       "      <td>0.000000</td>\n",
       "      <td>0.230000</td>\n",
       "      <td>8.000000</td>\n",
       "    </tr>\n",
       "    <tr>\n",
       "      <td>max</td>\n",
       "      <td>84.000000</td>\n",
       "      <td>480000.000000</td>\n",
       "      <td>41.000000</td>\n",
       "      <td>35000.000000</td>\n",
       "      <td>23.220000</td>\n",
       "      <td>1.000000</td>\n",
       "      <td>0.830000</td>\n",
       "      <td>30.000000</td>\n",
       "    </tr>\n",
       "  </tbody>\n",
       "</table>\n",
       "</div>"
      ],
      "text/plain": [
       "         person_age  person_income  person_emp_length     loan_amnt  \\\n",
       "count  28583.000000   28583.000000       28583.000000  28583.000000   \n",
       "mean      27.692964   65236.540741           4.775531   9647.596473   \n",
       "std        6.149342   40711.977125           4.031130   6319.450980   \n",
       "min       20.000000    4000.000000           0.000000    500.000000   \n",
       "25%       23.000000   39306.000000           2.000000   5000.000000   \n",
       "50%       26.000000   55600.000000           4.000000   8000.000000   \n",
       "75%       30.000000   80000.000000           7.000000  12500.000000   \n",
       "max       84.000000  480000.000000          41.000000  35000.000000   \n",
       "\n",
       "       loan_int_rate   loan_status  loan_percent_income  \\\n",
       "count   28583.000000  28583.000000         28583.000000   \n",
       "mean       11.039414      0.216772             0.169744   \n",
       "std         3.230047      0.412053             0.106272   \n",
       "min         5.420000      0.000000             0.010000   \n",
       "25%         7.900000      0.000000             0.090000   \n",
       "50%        10.990000      0.000000             0.150000   \n",
       "75%        13.480000      0.000000             0.230000   \n",
       "max        23.220000      1.000000             0.830000   \n",
       "\n",
       "       cb_person_cred_hist_length  \n",
       "count                28583.000000  \n",
       "mean                     5.782073  \n",
       "std                      4.023580  \n",
       "min                      2.000000  \n",
       "25%                      3.000000  \n",
       "50%                      4.000000  \n",
       "75%                      8.000000  \n",
       "max                     30.000000  "
      ]
     },
     "execution_count": 4,
     "metadata": {},
     "output_type": "execute_result"
    }
   ],
   "source": [
    "cleandf.describe()"
   ]
  },
  {
   "cell_type": "code",
   "execution_count": 5,
   "metadata": {},
   "outputs": [],
   "source": [
    "y = pd.get_dummies(cleandf.person_home_ownership, prefix='person_home_ownership')\n",
    "y2 = pd.get_dummies(cleandf.loan_intent, prefix='loan_intent')\n",
    "y3 = pd.get_dummies(cleandf.loan_grade, prefix='loan_grade')\n",
    "y4 = pd.get_dummies(cleandf.cb_person_default_on_file, prefix='cb_person_default_on_file')\n",
    "y4 = y4.drop(['cb_person_default_on_file_N'], axis = 1)"
   ]
  },
  {
   "cell_type": "code",
   "execution_count": 6,
   "metadata": {},
   "outputs": [],
   "source": [
    "frames = [cleandf, y, y2, y3, y4]\n",
    "finaldf = pd.concat(frames, axis=1, join=\"inner\")"
   ]
  },
  {
   "cell_type": "code",
   "execution_count": 7,
   "metadata": {
    "scrolled": true
   },
   "outputs": [
    {
     "data": {
      "text/html": [
       "<div>\n",
       "<style scoped>\n",
       "    .dataframe tbody tr th:only-of-type {\n",
       "        vertical-align: middle;\n",
       "    }\n",
       "\n",
       "    .dataframe tbody tr th {\n",
       "        vertical-align: top;\n",
       "    }\n",
       "\n",
       "    .dataframe thead th {\n",
       "        text-align: right;\n",
       "    }\n",
       "</style>\n",
       "<table border=\"1\" class=\"dataframe\">\n",
       "  <thead>\n",
       "    <tr style=\"text-align: right;\">\n",
       "      <th></th>\n",
       "      <th>person_age</th>\n",
       "      <th>person_income</th>\n",
       "      <th>person_emp_length</th>\n",
       "      <th>loan_amnt</th>\n",
       "      <th>loan_int_rate</th>\n",
       "      <th>loan_percent_income</th>\n",
       "      <th>cb_person_cred_hist_length</th>\n",
       "      <th>person_home_ownership_MORTGAGE</th>\n",
       "      <th>person_home_ownership_OTHER</th>\n",
       "      <th>person_home_ownership_OWN</th>\n",
       "      <th>...</th>\n",
       "      <th>loan_intent_PERSONAL</th>\n",
       "      <th>loan_intent_VENTURE</th>\n",
       "      <th>loan_grade_A</th>\n",
       "      <th>loan_grade_B</th>\n",
       "      <th>loan_grade_C</th>\n",
       "      <th>loan_grade_D</th>\n",
       "      <th>loan_grade_E</th>\n",
       "      <th>loan_grade_F</th>\n",
       "      <th>loan_grade_G</th>\n",
       "      <th>cb_person_default_on_file_Y</th>\n",
       "    </tr>\n",
       "  </thead>\n",
       "  <tbody>\n",
       "    <tr>\n",
       "      <td>count</td>\n",
       "      <td>28583.000000</td>\n",
       "      <td>28583.000000</td>\n",
       "      <td>28583.000000</td>\n",
       "      <td>28583.000000</td>\n",
       "      <td>28583.000000</td>\n",
       "      <td>28583.000000</td>\n",
       "      <td>28583.000000</td>\n",
       "      <td>28583.000000</td>\n",
       "      <td>28583.000000</td>\n",
       "      <td>28583.000000</td>\n",
       "      <td>...</td>\n",
       "      <td>28583.000000</td>\n",
       "      <td>28583.000000</td>\n",
       "      <td>28583.000000</td>\n",
       "      <td>28583.000000</td>\n",
       "      <td>28583.000000</td>\n",
       "      <td>28583.000000</td>\n",
       "      <td>28583.000000</td>\n",
       "      <td>28583.000000</td>\n",
       "      <td>28583.000000</td>\n",
       "      <td>28583.000000</td>\n",
       "    </tr>\n",
       "    <tr>\n",
       "      <td>mean</td>\n",
       "      <td>27.692964</td>\n",
       "      <td>65236.540741</td>\n",
       "      <td>4.775531</td>\n",
       "      <td>9647.596473</td>\n",
       "      <td>11.039414</td>\n",
       "      <td>0.169744</td>\n",
       "      <td>5.782073</td>\n",
       "      <td>0.411783</td>\n",
       "      <td>0.003219</td>\n",
       "      <td>0.076514</td>\n",
       "      <td>...</td>\n",
       "      <td>0.170136</td>\n",
       "      <td>0.174684</td>\n",
       "      <td>0.328447</td>\n",
       "      <td>0.319456</td>\n",
       "      <td>0.198894</td>\n",
       "      <td>0.113459</td>\n",
       "      <td>0.030403</td>\n",
       "      <td>0.007277</td>\n",
       "      <td>0.002064</td>\n",
       "      <td>0.178008</td>\n",
       "    </tr>\n",
       "    <tr>\n",
       "      <td>std</td>\n",
       "      <td>6.149342</td>\n",
       "      <td>40711.977125</td>\n",
       "      <td>4.031130</td>\n",
       "      <td>6319.450980</td>\n",
       "      <td>3.230047</td>\n",
       "      <td>0.106272</td>\n",
       "      <td>4.023580</td>\n",
       "      <td>0.492165</td>\n",
       "      <td>0.056643</td>\n",
       "      <td>0.265823</td>\n",
       "      <td>...</td>\n",
       "      <td>0.375759</td>\n",
       "      <td>0.379703</td>\n",
       "      <td>0.469657</td>\n",
       "      <td>0.466274</td>\n",
       "      <td>0.399175</td>\n",
       "      <td>0.317159</td>\n",
       "      <td>0.171696</td>\n",
       "      <td>0.084996</td>\n",
       "      <td>0.045387</td>\n",
       "      <td>0.382526</td>\n",
       "    </tr>\n",
       "    <tr>\n",
       "      <td>min</td>\n",
       "      <td>20.000000</td>\n",
       "      <td>4000.000000</td>\n",
       "      <td>0.000000</td>\n",
       "      <td>500.000000</td>\n",
       "      <td>5.420000</td>\n",
       "      <td>0.010000</td>\n",
       "      <td>2.000000</td>\n",
       "      <td>0.000000</td>\n",
       "      <td>0.000000</td>\n",
       "      <td>0.000000</td>\n",
       "      <td>...</td>\n",
       "      <td>0.000000</td>\n",
       "      <td>0.000000</td>\n",
       "      <td>0.000000</td>\n",
       "      <td>0.000000</td>\n",
       "      <td>0.000000</td>\n",
       "      <td>0.000000</td>\n",
       "      <td>0.000000</td>\n",
       "      <td>0.000000</td>\n",
       "      <td>0.000000</td>\n",
       "      <td>0.000000</td>\n",
       "    </tr>\n",
       "    <tr>\n",
       "      <td>25%</td>\n",
       "      <td>23.000000</td>\n",
       "      <td>39306.000000</td>\n",
       "      <td>2.000000</td>\n",
       "      <td>5000.000000</td>\n",
       "      <td>7.900000</td>\n",
       "      <td>0.090000</td>\n",
       "      <td>3.000000</td>\n",
       "      <td>0.000000</td>\n",
       "      <td>0.000000</td>\n",
       "      <td>0.000000</td>\n",
       "      <td>...</td>\n",
       "      <td>0.000000</td>\n",
       "      <td>0.000000</td>\n",
       "      <td>0.000000</td>\n",
       "      <td>0.000000</td>\n",
       "      <td>0.000000</td>\n",
       "      <td>0.000000</td>\n",
       "      <td>0.000000</td>\n",
       "      <td>0.000000</td>\n",
       "      <td>0.000000</td>\n",
       "      <td>0.000000</td>\n",
       "    </tr>\n",
       "    <tr>\n",
       "      <td>50%</td>\n",
       "      <td>26.000000</td>\n",
       "      <td>55600.000000</td>\n",
       "      <td>4.000000</td>\n",
       "      <td>8000.000000</td>\n",
       "      <td>10.990000</td>\n",
       "      <td>0.150000</td>\n",
       "      <td>4.000000</td>\n",
       "      <td>0.000000</td>\n",
       "      <td>0.000000</td>\n",
       "      <td>0.000000</td>\n",
       "      <td>...</td>\n",
       "      <td>0.000000</td>\n",
       "      <td>0.000000</td>\n",
       "      <td>0.000000</td>\n",
       "      <td>0.000000</td>\n",
       "      <td>0.000000</td>\n",
       "      <td>0.000000</td>\n",
       "      <td>0.000000</td>\n",
       "      <td>0.000000</td>\n",
       "      <td>0.000000</td>\n",
       "      <td>0.000000</td>\n",
       "    </tr>\n",
       "    <tr>\n",
       "      <td>75%</td>\n",
       "      <td>30.000000</td>\n",
       "      <td>80000.000000</td>\n",
       "      <td>7.000000</td>\n",
       "      <td>12500.000000</td>\n",
       "      <td>13.480000</td>\n",
       "      <td>0.230000</td>\n",
       "      <td>8.000000</td>\n",
       "      <td>1.000000</td>\n",
       "      <td>0.000000</td>\n",
       "      <td>0.000000</td>\n",
       "      <td>...</td>\n",
       "      <td>0.000000</td>\n",
       "      <td>0.000000</td>\n",
       "      <td>1.000000</td>\n",
       "      <td>1.000000</td>\n",
       "      <td>0.000000</td>\n",
       "      <td>0.000000</td>\n",
       "      <td>0.000000</td>\n",
       "      <td>0.000000</td>\n",
       "      <td>0.000000</td>\n",
       "      <td>0.000000</td>\n",
       "    </tr>\n",
       "    <tr>\n",
       "      <td>max</td>\n",
       "      <td>84.000000</td>\n",
       "      <td>480000.000000</td>\n",
       "      <td>41.000000</td>\n",
       "      <td>35000.000000</td>\n",
       "      <td>23.220000</td>\n",
       "      <td>0.830000</td>\n",
       "      <td>30.000000</td>\n",
       "      <td>1.000000</td>\n",
       "      <td>1.000000</td>\n",
       "      <td>1.000000</td>\n",
       "      <td>...</td>\n",
       "      <td>1.000000</td>\n",
       "      <td>1.000000</td>\n",
       "      <td>1.000000</td>\n",
       "      <td>1.000000</td>\n",
       "      <td>1.000000</td>\n",
       "      <td>1.000000</td>\n",
       "      <td>1.000000</td>\n",
       "      <td>1.000000</td>\n",
       "      <td>1.000000</td>\n",
       "      <td>1.000000</td>\n",
       "    </tr>\n",
       "  </tbody>\n",
       "</table>\n",
       "<p>8 rows × 25 columns</p>\n",
       "</div>"
      ],
      "text/plain": [
       "         person_age  person_income  person_emp_length     loan_amnt  \\\n",
       "count  28583.000000   28583.000000       28583.000000  28583.000000   \n",
       "mean      27.692964   65236.540741           4.775531   9647.596473   \n",
       "std        6.149342   40711.977125           4.031130   6319.450980   \n",
       "min       20.000000    4000.000000           0.000000    500.000000   \n",
       "25%       23.000000   39306.000000           2.000000   5000.000000   \n",
       "50%       26.000000   55600.000000           4.000000   8000.000000   \n",
       "75%       30.000000   80000.000000           7.000000  12500.000000   \n",
       "max       84.000000  480000.000000          41.000000  35000.000000   \n",
       "\n",
       "       loan_int_rate  loan_percent_income  cb_person_cred_hist_length  \\\n",
       "count   28583.000000         28583.000000                28583.000000   \n",
       "mean       11.039414             0.169744                    5.782073   \n",
       "std         3.230047             0.106272                    4.023580   \n",
       "min         5.420000             0.010000                    2.000000   \n",
       "25%         7.900000             0.090000                    3.000000   \n",
       "50%        10.990000             0.150000                    4.000000   \n",
       "75%        13.480000             0.230000                    8.000000   \n",
       "max        23.220000             0.830000                   30.000000   \n",
       "\n",
       "       person_home_ownership_MORTGAGE  person_home_ownership_OTHER  \\\n",
       "count                    28583.000000                 28583.000000   \n",
       "mean                         0.411783                     0.003219   \n",
       "std                          0.492165                     0.056643   \n",
       "min                          0.000000                     0.000000   \n",
       "25%                          0.000000                     0.000000   \n",
       "50%                          0.000000                     0.000000   \n",
       "75%                          1.000000                     0.000000   \n",
       "max                          1.000000                     1.000000   \n",
       "\n",
       "       person_home_ownership_OWN  ...  loan_intent_PERSONAL  \\\n",
       "count               28583.000000  ...          28583.000000   \n",
       "mean                    0.076514  ...              0.170136   \n",
       "std                     0.265823  ...              0.375759   \n",
       "min                     0.000000  ...              0.000000   \n",
       "25%                     0.000000  ...              0.000000   \n",
       "50%                     0.000000  ...              0.000000   \n",
       "75%                     0.000000  ...              0.000000   \n",
       "max                     1.000000  ...              1.000000   \n",
       "\n",
       "       loan_intent_VENTURE  loan_grade_A  loan_grade_B  loan_grade_C  \\\n",
       "count         28583.000000  28583.000000  28583.000000  28583.000000   \n",
       "mean              0.174684      0.328447      0.319456      0.198894   \n",
       "std               0.379703      0.469657      0.466274      0.399175   \n",
       "min               0.000000      0.000000      0.000000      0.000000   \n",
       "25%               0.000000      0.000000      0.000000      0.000000   \n",
       "50%               0.000000      0.000000      0.000000      0.000000   \n",
       "75%               0.000000      1.000000      1.000000      0.000000   \n",
       "max               1.000000      1.000000      1.000000      1.000000   \n",
       "\n",
       "       loan_grade_D  loan_grade_E  loan_grade_F  loan_grade_G  \\\n",
       "count  28583.000000  28583.000000  28583.000000  28583.000000   \n",
       "mean       0.113459      0.030403      0.007277      0.002064   \n",
       "std        0.317159      0.171696      0.084996      0.045387   \n",
       "min        0.000000      0.000000      0.000000      0.000000   \n",
       "25%        0.000000      0.000000      0.000000      0.000000   \n",
       "50%        0.000000      0.000000      0.000000      0.000000   \n",
       "75%        0.000000      0.000000      0.000000      0.000000   \n",
       "max        1.000000      1.000000      1.000000      1.000000   \n",
       "\n",
       "       cb_person_default_on_file_Y  \n",
       "count                 28583.000000  \n",
       "mean                      0.178008  \n",
       "std                       0.382526  \n",
       "min                       0.000000  \n",
       "25%                       0.000000  \n",
       "50%                       0.000000  \n",
       "75%                       0.000000  \n",
       "max                       1.000000  \n",
       "\n",
       "[8 rows x 25 columns]"
      ]
     },
     "execution_count": 7,
     "metadata": {},
     "output_type": "execute_result"
    }
   ],
   "source": [
    "target = finaldf['loan_status']\n",
    "finaldf = finaldf.drop(['loan_status','person_home_ownership', 'loan_intent', 'loan_grade', 'cb_person_default_on_file'], axis = 1)\n",
    "finaldf.describe()"
   ]
  },
  {
   "cell_type": "code",
   "execution_count": 8,
   "metadata": {},
   "outputs": [
    {
     "data": {
      "text/plain": [
       "count    28583.000000\n",
       "mean         0.216772\n",
       "std          0.412053\n",
       "min          0.000000\n",
       "25%          0.000000\n",
       "50%          0.000000\n",
       "75%          0.000000\n",
       "max          1.000000\n",
       "Name: loan_status, dtype: float64"
      ]
     },
     "execution_count": 8,
     "metadata": {},
     "output_type": "execute_result"
    }
   ],
   "source": [
    "target.describe()"
   ]
  },
  {
   "cell_type": "code",
   "execution_count": 9,
   "metadata": {},
   "outputs": [
    {
     "data": {
      "text/plain": [
       "Text(0.5, 1.0, 'Histogramme des revenus des individus')"
      ]
     },
     "execution_count": 9,
     "metadata": {},
     "output_type": "execute_result"
    },
    {
     "data": {
      "image/png": "[encoded data removed]",
      "text/plain": [
       "<Figure size 432x288 with 1 Axes>"
      ]
     },
     "metadata": {
      "needs_background": "light"
     },
     "output_type": "display_data"
    }
   ],
   "source": [
    "finaldf['person_income'].hist(bins = 500)\n",
    "plt.xlim(0,400000)\n",
    "plt.title(\"Histogramme des revenus des individus\")"
   ]
  },
  {
   "cell_type": "code",
   "execution_count": 10,
   "metadata": {},
   "outputs": [
    {
     "data": {
      "image/png": "[encoded data removed]",
      "text/plain": [
       "<Figure size 432x288 with 1 Axes>"
      ]
     },
     "metadata": {
      "needs_background": "light"
     },
     "output_type": "display_data"
    }
   ],
   "source": [
    "plt.xlim(0,7)\n",
    "plt.title(\"Histogramme des secteurs d'investissements\")\n",
    "\n",
    "x = [1,2,3,4,5,6]\n",
    "y = [np.sum(finaldf['loan_intent_DEBTCONSOLIDATION']) ,np.sum(finaldf['loan_intent_EDUCATION']),np.sum(finaldf['loan_intent_HOMEIMPROVEMENT']),np.sum(finaldf['loan_intent_MEDICAL']),np.sum(finaldf['loan_intent_PERSONAL']),np.sum(finaldf['loan_intent_VENTURE'])]\n",
    "\n",
    "plt.bar(x,y, 0.5)\n",
    "plt.grid()\n",
    "BarName = ['DEBTCONSOLIDATION', 'EDUCATION','HOMEIMPROVEMENT', 'MEDICAL','PERSONAL', 'VENTURE']\n",
    "pylab.xticks(x, BarName, rotation=70)\n",
    "plt.show()"
   ]
  },
  {
   "cell_type": "code",
   "execution_count": 11,
   "metadata": {
    "scrolled": true
   },
   "outputs": [
    {
     "name": "stdout",
     "output_type": "stream",
     "text": [
      "Accuracy test set:  0.8233339163897149\n",
      "class 0 precision :  0.8306513409961686\n",
      "class 0 rappel :  0.9717615419094576\n",
      "class 1 precision :  0.7464788732394366\n",
      "class 1 rappel :  0.29561752988047807\n"
     ]
    },
    {
     "data": {
      "text/html": [
       "<div>\n",
       "<style scoped>\n",
       "    .dataframe tbody tr th:only-of-type {\n",
       "        vertical-align: middle;\n",
       "    }\n",
       "\n",
       "    .dataframe tbody tr th {\n",
       "        vertical-align: top;\n",
       "    }\n",
       "\n",
       "    .dataframe thead th {\n",
       "        text-align: right;\n",
       "    }\n",
       "</style>\n",
       "<table border=\"1\" class=\"dataframe\">\n",
       "  <thead>\n",
       "    <tr style=\"text-align: right;\">\n",
       "      <th>classe prédite</th>\n",
       "      <th>0</th>\n",
       "      <th>1</th>\n",
       "    </tr>\n",
       "    <tr>\n",
       "      <th>classe réelle</th>\n",
       "      <th></th>\n",
       "      <th></th>\n",
       "    </tr>\n",
       "  </thead>\n",
       "  <tbody>\n",
       "    <tr>\n",
       "      <td>0</td>\n",
       "      <td>4336</td>\n",
       "      <td>126</td>\n",
       "    </tr>\n",
       "    <tr>\n",
       "      <td>1</td>\n",
       "      <td>884</td>\n",
       "      <td>371</td>\n",
       "    </tr>\n",
       "  </tbody>\n",
       "</table>\n",
       "</div>"
      ],
      "text/plain": [
       "classe prédite     0    1\n",
       "classe réelle            \n",
       "0               4336  126\n",
       "1                884  371"
      ]
     },
     "execution_count": 11,
     "metadata": {},
     "output_type": "execute_result"
    }
   ],
   "source": [
    "#Jeu d'apprentissage et test\n",
    "X_train, X_test, y_train, y_test = train_test_split(finaldf, target, test_size = 0.2)\n",
    "\n",
    "#Modèle 1 : Régression linéaire\n",
    "clf = linear_model.LogisticRegression(solver='liblinear', C = 1.0)\n",
    "clf.fit(X_train, y_train)\n",
    "y_pred = clf.predict(X_test) \n",
    "\n",
    "cm = pd.crosstab(y_test, y_pred, rownames=['classe réelle'], colnames=['classe prédite'])\n",
    "\n",
    "h1 = accuracy_score(y_test, y_pred)\n",
    "print(\"Accuracy test set: \" , h1)\n",
    "print(\"class 0 precision : \" , cm[0][0]/(cm[0][0]+cm[0][1]))\n",
    "print(\"class 0 rappel : \" , cm[0][0]/(cm[0][0]+cm[1][0]))\n",
    "\n",
    "print(\"class 1 precision : \" , cm[1][1]/(cm[1][0]+cm[1][1]))\n",
    "print(\"class 1 rappel : \" , cm[1][1]/(cm[0][1]+cm[1][1]))\n",
    "cm"
   ]
  },
  {
   "cell_type": "code",
   "execution_count": 12,
   "metadata": {},
   "outputs": [],
   "source": [
    "#record: 0.8313800944551338"
   ]
  },
  {
   "cell_type": "code",
   "execution_count": 13,
   "metadata": {},
   "outputs": [],
   "source": [
    "col = finaldf.columns\n",
    "col = col.to_numpy().reshape(1,25)\n",
    "\n",
    "coef_mod1 = clf.coef_\n",
    "intercept1 = clf.intercept_\n",
    "col_coef = np.concatenate((col,coef_mod1))\n",
    "\n",
    "arg =  np.argsort(abs(coef_mod1[0,:]))"
   ]
  },
  {
   "cell_type": "code",
   "execution_count": 14,
   "metadata": {},
   "outputs": [
    {
     "name": "stdout",
     "output_type": "stream",
     "text": [
      "Coefficients du modèle linéaire simple\n",
      "\n",
      "ordonnée à l'origine : -0.0018392787767599532\n",
      "\n",
      "person_home_ownership_OTHER :  3.769554253454406e-05\n",
      "person_income :  -4.36419305661839e-05\n",
      "loan_amnt :  0.00010616465021687016\n",
      "loan_grade_G :  0.0004301364934916851\n",
      "loan_percent_income :  0.0005124777358960273\n",
      "loan_grade_F :  0.0008626122344857079\n",
      "loan_intent_PERSONAL :  -0.0009510786613808113\n",
      "loan_intent_MEDICAL :  0.0016134261336030506\n",
      "loan_grade_C :  -0.0018571566549467865\n",
      "loan_intent_HOMEIMPROVEMENT :  0.0020741217925220965\n",
      "loan_intent_DEBTCONSOLIDATION :  0.0025126852866155553\n",
      "cb_person_cred_hist_length :  0.003200155318973209\n",
      "loan_grade_E :  0.003298335653413288\n",
      "loan_intent_EDUCATION :  -0.0033005553410184233\n",
      "loan_intent_VENTURE :  -0.003787877987101648\n",
      "person_home_ownership_OWN :  -0.004318553865676695\n",
      "person_home_ownership_MORTGAGE :  -0.005868874116562982\n",
      "loan_grade_B :  -0.00620670945013308\n",
      "cb_person_default_on_file_Y :  0.006848509434032691\n",
      "person_home_ownership_RENT :  0.008310453662944865\n",
      "loan_grade_A :  -0.009093518294051724\n",
      "loan_grade_D :  0.010727021240980718\n",
      "person_emp_length :  -0.021287816561156605\n",
      "person_age :  -0.027008991886069658\n",
      "loan_int_rate :  0.08661492784737371\n"
     ]
    }
   ],
   "source": [
    "#Affichage de l'ordonnée à l'origine et des coefficient du modèle\n",
    "print(\"Coefficients du modèle linéaire simple\\n\")\n",
    "print(\"ordonnée à l'origine : {0}\\n\".format(intercept1[0]))\n",
    "for i in arg:\n",
    "    print(col_coef[0][i],\": \" ,col_coef[1][i])"
   ]
  },
  {
   "cell_type": "code",
   "execution_count": 15,
   "metadata": {},
   "outputs": [
    {
     "name": "stdout",
     "output_type": "stream",
     "text": [
      "Accuracy test set:  0.7486443939128914\n",
      "class 0 precision :  0.9245018243053607\n",
      "class 0 rappel :  0.7382339757956073\n",
      "class 1 precision :  0.45775301764159704\n",
      "class 1 rappel :  0.7856573705179283\n"
     ]
    },
    {
     "data": {
      "text/html": [
       "<div>\n",
       "<style scoped>\n",
       "    .dataframe tbody tr th:only-of-type {\n",
       "        vertical-align: middle;\n",
       "    }\n",
       "\n",
       "    .dataframe tbody tr th {\n",
       "        vertical-align: top;\n",
       "    }\n",
       "\n",
       "    .dataframe thead th {\n",
       "        text-align: right;\n",
       "    }\n",
       "</style>\n",
       "<table border=\"1\" class=\"dataframe\">\n",
       "  <thead>\n",
       "    <tr style=\"text-align: right;\">\n",
       "      <th>classe prédite</th>\n",
       "      <th>0</th>\n",
       "      <th>1</th>\n",
       "    </tr>\n",
       "    <tr>\n",
       "      <th>classe réelle</th>\n",
       "      <th></th>\n",
       "      <th></th>\n",
       "    </tr>\n",
       "  </thead>\n",
       "  <tbody>\n",
       "    <tr>\n",
       "      <td>0</td>\n",
       "      <td>3294</td>\n",
       "      <td>1168</td>\n",
       "    </tr>\n",
       "    <tr>\n",
       "      <td>1</td>\n",
       "      <td>269</td>\n",
       "      <td>986</td>\n",
       "    </tr>\n",
       "  </tbody>\n",
       "</table>\n",
       "</div>"
      ],
      "text/plain": [
       "classe prédite     0     1\n",
       "classe réelle             \n",
       "0               3294  1168\n",
       "1                269   986"
      ]
     },
     "execution_count": 15,
     "metadata": {},
     "output_type": "execute_result"
    }
   ],
   "source": [
    "#Modèle 1Bis : Régression linéaire avec poids des classes équilibrés\n",
    "clf_balanced = linear_model.LogisticRegression(solver='liblinear', class_weight = 'balanced', C = 1.0)\n",
    "clf_balanced.fit(X_train, y_train)\n",
    "y_pred = clf_balanced.predict(X_test) \n",
    "\n",
    "cm = pd.crosstab(y_test, y_pred, rownames=['classe réelle'], colnames=['classe prédite'])\n",
    "\n",
    "print(\"Accuracy test set: \" , accuracy_score(y_test, y_pred))\n",
    "print(\"class 0 precision : \" , cm[0][0]/(cm[0][0]+cm[0][1]))\n",
    "print(\"class 0 rappel : \" , cm[0][0]/(cm[0][0]+cm[1][0]))\n",
    "\n",
    "print(\"class 1 precision : \" , cm[1][1]/(cm[1][0]+cm[1][1]))\n",
    "print(\"class 1 rappel : \" , cm[1][1]/(cm[0][1]+cm[1][1]))\n",
    "cm"
   ]
  },
  {
   "cell_type": "code",
   "execution_count": 16,
   "metadata": {},
   "outputs": [],
   "source": [
    "coef_mod2 = clf_balanced.coef_\n",
    "intercept2 = clf_balanced.intercept_\n",
    "\n",
    "col_coef_mod2 = np.concatenate((col,coef_mod2))\n",
    "arg2 =  np.argsort(abs(coef_mod2[0,:]))"
   ]
  },
  {
   "cell_type": "code",
   "execution_count": 17,
   "metadata": {},
   "outputs": [
    {
     "name": "stdout",
     "output_type": "stream",
     "text": [
      "Coefficients du modèle linéaire équilibré\n",
      "\n",
      "intercept :-0.112328093075366 \n",
      "\n",
      "person_income :  -3.0313025014896424e-05\n",
      "loan_amnt :  9.478233699455558e-05\n",
      "person_home_ownership_OTHER :  0.0019096973940279987\n",
      "person_emp_length :  -0.008736122541363883\n",
      "loan_grade_G :  0.01345005663685188\n",
      "loan_grade_F :  0.02476906574606257\n",
      "loan_grade_A :  -0.04011906454267047\n",
      "loan_intent_PERSONAL :  -0.05324027850203813\n",
      "loan_percent_income :  0.0647521669084615\n",
      "loan_intent_MEDICAL :  0.07873037080718034\n",
      "cb_person_default_on_file_Y :  0.08876241446155299\n",
      "person_age :  -0.09139168367649445\n",
      "loan_grade_E :  0.10182843548201763\n",
      "cb_person_cred_hist_length :  0.11567336625795033\n",
      "loan_intent_HOMEIMPROVEMENT :  0.13431826070625977\n",
      "loan_intent_DEBTCONSOLIDATION :  0.15626303801579983\n",
      "loan_intent_EDUCATION :  -0.17915808758320825\n",
      "person_home_ownership_MORTGAGE :  -0.1838326249959232\n",
      "loan_int_rate :  0.23469238800872202\n",
      "person_home_ownership_OWN :  -0.24893162206135222\n",
      "loan_intent_VENTURE :  -0.24924139651935645\n",
      "loan_grade_B :  -0.2658571192936121\n",
      "loan_grade_C :  -0.31554624728800923\n",
      "person_home_ownership_RENT :  0.318526456587887\n",
      "loan_grade_D :  0.3691467801839967\n"
     ]
    }
   ],
   "source": [
    "print(\"Coefficients du modèle linéaire équilibré\\n\")\n",
    "print('intercept :{0} \\n'.format(intercept2[0]))\n",
    "\n",
    "for i in arg2:\n",
    "    print(col_coef_mod2[0][i],\": \" ,col_coef_mod2[1][i])"
   ]
  },
  {
   "cell_type": "code",
   "execution_count": 18,
   "metadata": {},
   "outputs": [],
   "source": [
    "#Normalisation du jeu de données\n",
    "normalized_df=(finaldf-finaldf.min())/(finaldf.max()-finaldf.min())\n",
    "X_trainNorm, X_testNorm, y_train, y_test = train_test_split(normalized_df, target, test_size = 0.2)\n",
    "X_trainNorm, X_validNorm, y_train, y_valid = train_test_split(X_trainNorm, y_train, test_size = 0.25)"
   ]
  },
  {
   "cell_type": "code",
   "execution_count": 19,
   "metadata": {},
   "outputs": [
    {
     "name": "stdout",
     "output_type": "stream",
     "text": [
      "Accuracy sur données de validation:  0.9219870561483295\n"
     ]
    },
    {
     "name": "stderr",
     "output_type": "stream",
     "text": [
      "/Users/jaryvallimamode/opt/anaconda3/lib/python3.7/site-packages/sklearn/neural_network/multilayer_perceptron.py:566: ConvergenceWarning: Stochastic Optimizer: Maximum iterations (300) reached and the optimization hasn't converged yet.\n",
      "  % self.max_iter, ConvergenceWarning)\n"
     ]
    },
    {
     "data": {
      "text/html": [
       "<div>\n",
       "<style scoped>\n",
       "    .dataframe tbody tr th:only-of-type {\n",
       "        vertical-align: middle;\n",
       "    }\n",
       "\n",
       "    .dataframe tbody tr th {\n",
       "        vertical-align: top;\n",
       "    }\n",
       "\n",
       "    .dataframe thead th {\n",
       "        text-align: right;\n",
       "    }\n",
       "</style>\n",
       "<table border=\"1\" class=\"dataframe\">\n",
       "  <thead>\n",
       "    <tr style=\"text-align: right;\">\n",
       "      <th>classe prédite</th>\n",
       "      <th>0</th>\n",
       "      <th>1</th>\n",
       "    </tr>\n",
       "    <tr>\n",
       "      <th>classe réelle</th>\n",
       "      <th></th>\n",
       "      <th></th>\n",
       "    </tr>\n",
       "  </thead>\n",
       "  <tbody>\n",
       "    <tr>\n",
       "      <td>0</td>\n",
       "      <td>4398</td>\n",
       "      <td>91</td>\n",
       "    </tr>\n",
       "    <tr>\n",
       "      <td>1</td>\n",
       "      <td>355</td>\n",
       "      <td>873</td>\n",
       "    </tr>\n",
       "  </tbody>\n",
       "</table>\n",
       "</div>"
      ],
      "text/plain": [
       "classe prédite     0    1\n",
       "classe réelle            \n",
       "0               4398   91\n",
       "1                355  873"
      ]
     },
     "execution_count": 19,
     "metadata": {},
     "output_type": "execute_result"
    }
   ],
   "source": [
    "#Modèle 2 : Reseau de neurones\n",
    "from sklearn.neural_network import MLPClassifier\n",
    "\n",
    "\n",
    "clfNN = MLPClassifier(solver='adam', alpha=5e-5, hidden_layer_sizes=(25,5), max_iter = 300)\n",
    "clfNN.fit(X_trainNorm, y_train)\n",
    "y_pred = clfNN.predict(X_validNorm) \n",
    "\n",
    "cm = pd.crosstab(y_valid, y_pred, rownames=['classe réelle'], colnames=['classe prédite'])\n",
    "\n",
    "\n",
    "print(\"Accuracy sur données de validation: \", accuracy_score(y_valid, y_pred))\n",
    "cm"
   ]
  },
  {
   "cell_type": "code",
   "execution_count": 20,
   "metadata": {},
   "outputs": [
    {
     "name": "stdout",
     "output_type": "stream",
     "text": [
      "Accuracy sur données de test:  0.9274094804967641\n"
     ]
    },
    {
     "data": {
      "text/html": [
       "<div>\n",
       "<style scoped>\n",
       "    .dataframe tbody tr th:only-of-type {\n",
       "        vertical-align: middle;\n",
       "    }\n",
       "\n",
       "    .dataframe tbody tr th {\n",
       "        vertical-align: top;\n",
       "    }\n",
       "\n",
       "    .dataframe thead th {\n",
       "        text-align: right;\n",
       "    }\n",
       "</style>\n",
       "<table border=\"1\" class=\"dataframe\">\n",
       "  <thead>\n",
       "    <tr style=\"text-align: right;\">\n",
       "      <th>classe prédite</th>\n",
       "      <th>0</th>\n",
       "      <th>1</th>\n",
       "    </tr>\n",
       "    <tr>\n",
       "      <th>classe réelle</th>\n",
       "      <th></th>\n",
       "      <th></th>\n",
       "    </tr>\n",
       "  </thead>\n",
       "  <tbody>\n",
       "    <tr>\n",
       "      <td>0</td>\n",
       "      <td>4429</td>\n",
       "      <td>95</td>\n",
       "    </tr>\n",
       "    <tr>\n",
       "      <td>1</td>\n",
       "      <td>320</td>\n",
       "      <td>873</td>\n",
       "    </tr>\n",
       "  </tbody>\n",
       "</table>\n",
       "</div>"
      ],
      "text/plain": [
       "classe prédite     0    1\n",
       "classe réelle            \n",
       "0               4429   95\n",
       "1                320  873"
      ]
     },
     "execution_count": 20,
     "metadata": {},
     "output_type": "execute_result"
    }
   ],
   "source": [
    "y_pred = clfNN.predict(X_testNorm) \n",
    "cm = pd.crosstab(y_test, y_pred, rownames=['classe réelle'], colnames=['classe prédite'])\n",
    "\n",
    "h2 = accuracy_score(y_test, y_pred)\n",
    "print(\"Accuracy sur données de test: \", h2)\n",
    "cm"
   ]
  },
  {
   "cell_type": "code",
   "execution_count": 21,
   "metadata": {},
   "outputs": [],
   "source": [
    "#record: 0.92788545486293"
   ]
  },
  {
   "cell_type": "code",
   "execution_count": 22,
   "metadata": {},
   "outputs": [
    {
     "name": "stdout",
     "output_type": "stream",
     "text": [
      "On prend un arbre de profondeur 7 car le score de validation est maximum et vaut 0.9314325695294735\n"
     ]
    }
   ],
   "source": [
    "#Modèle 3 : Arbres de décision\n",
    "from sklearn import tree\n",
    "\n",
    "Mdepth = np.arange(3,50,1)\n",
    "score = []\n",
    "for i in Mdepth: \n",
    "    clf = tree.DecisionTreeClassifier(max_depth = i )\n",
    "    clf = clf.fit(X_trainNorm, y_train)\n",
    "    score.append(clf.score(X_validNorm, y_valid))\n",
    "\n",
    "print(\"On prend un arbre de profondeur {0} car le score de validation est maximum et vaut {1}\" .format(Mdepth[np.argmax(score)], np.max(score)))"
   ]
  },
  {
   "cell_type": "code",
   "execution_count": 23,
   "metadata": {},
   "outputs": [
    {
     "name": "stdout",
     "output_type": "stream",
     "text": [
      "Accuracy test set :  0.9351058247332517\n"
     ]
    }
   ],
   "source": [
    "clf = tree.DecisionTreeClassifier(max_depth = Mdepth[np.argmax(score)])\n",
    "clf = clf.fit(X_trainNorm, y_train)\n",
    "print(\"Accuracy test set : \", clf.score(X_testNorm, y_test))"
   ]
  },
  {
   "cell_type": "code",
   "execution_count": 24,
   "metadata": {},
   "outputs": [],
   "source": [
    "#record: 0.9376636982713462"
   ]
  },
  {
   "cell_type": "code",
   "execution_count": 25,
   "metadata": {},
   "outputs": [
    {
     "name": "stdout",
     "output_type": "stream",
     "text": [
      "Best max_depth: 8\n",
      "Accuracy sur données test:  0.9375546615357705\n"
     ]
    },
    {
     "data": {
      "text/html": [
       "<div>\n",
       "<style scoped>\n",
       "    .dataframe tbody tr th:only-of-type {\n",
       "        vertical-align: middle;\n",
       "    }\n",
       "\n",
       "    .dataframe tbody tr th {\n",
       "        vertical-align: top;\n",
       "    }\n",
       "\n",
       "    .dataframe thead th {\n",
       "        text-align: right;\n",
       "    }\n",
       "</style>\n",
       "<table border=\"1\" class=\"dataframe\">\n",
       "  <thead>\n",
       "    <tr style=\"text-align: right;\">\n",
       "      <th>classe prédite</th>\n",
       "      <th>0</th>\n",
       "      <th>1</th>\n",
       "    </tr>\n",
       "    <tr>\n",
       "      <th>classe réelle</th>\n",
       "      <th></th>\n",
       "      <th></th>\n",
       "    </tr>\n",
       "  </thead>\n",
       "  <tbody>\n",
       "    <tr>\n",
       "      <td>0</td>\n",
       "      <td>4504</td>\n",
       "      <td>20</td>\n",
       "    </tr>\n",
       "    <tr>\n",
       "      <td>1</td>\n",
       "      <td>337</td>\n",
       "      <td>856</td>\n",
       "    </tr>\n",
       "  </tbody>\n",
       "</table>\n",
       "</div>"
      ],
      "text/plain": [
       "classe prédite     0    1\n",
       "classe réelle            \n",
       "0               4504   20\n",
       "1                337  856"
      ]
     },
     "execution_count": 25,
     "metadata": {},
     "output_type": "execute_result"
    }
   ],
   "source": [
    "#Modèle 3bis : Arbres de décision avc cross-validation\n",
    "from sklearn.model_selection import GridSearchCV\n",
    "from sklearn import tree\n",
    "from sklearn.pipeline import Pipeline\n",
    "from sklearn.tree import DecisionTreeClassifier\n",
    "from sklearn.metrics import confusion_matrix\n",
    "\n",
    "dec_tree = DecisionTreeClassifier()\n",
    "\n",
    "pipe = Pipeline(steps=[('dec_tree', dec_tree)])\n",
    "\n",
    "Mdepth = np.arange(3,15,1)\n",
    "parameters = dict(dec_tree__max_depth=Mdepth)\n",
    "\n",
    "\n",
    "\n",
    "clfDT = GridSearchCV(pipe, parameters, cv=5)\n",
    "clfDT.fit(X_trainNorm,y_train)\n",
    "\n",
    "bestDepth = clfDT.best_estimator_.get_params()['dec_tree__max_depth']\n",
    "print('Best max_depth:', bestDepth)\n",
    "y_pred = clfDT.predict(X_testNorm)\n",
    "\n",
    "h3 = clfDT.score(X_testNorm,y_test)\n",
    "\n",
    "print(\"Accuracy sur données test: \" , h3)\n",
    "cm = pd.crosstab(y_test, y_pred, rownames=['classe réelle'], colnames=['classe prédite'])\n",
    "cm"
   ]
  },
  {
   "cell_type": "code",
   "execution_count": 26,
   "metadata": {},
   "outputs": [],
   "source": [
    "clfDT = DecisionTreeClassifier(max_depth = bestDepth)\n",
    "clfDT.fit(X_trainNorm,y_train)\n",
    "\n",
    "coef_modDT = clfDT.feature_importances_.reshape(1,25)\n",
    "\n",
    "col_coef_modDT = np.concatenate((col,coef_modDT))\n",
    "arg3 =  np.argsort(abs(coef_modDT[0,:]))"
   ]
  },
  {
   "cell_type": "code",
   "execution_count": 27,
   "metadata": {},
   "outputs": [
    {
     "name": "stdout",
     "output_type": "stream",
     "text": [
      "Importances des features selon le modèle Arbre de décision\n",
      "\n",
      "loan_intent_EDUCATION :  0.0\n",
      "loan_grade_F :  0.0\n",
      "loan_grade_B :  0.0\n",
      "loan_grade_A :  0.0\n",
      "loan_intent_PERSONAL :  0.0\n",
      "cb_person_cred_hist_length :  0.0\n",
      "cb_person_default_on_file_Y :  0.0003886653209054583\n",
      "person_home_ownership_OTHER :  0.0006133794313155341\n",
      "loan_amnt :  0.0009667465644378567\n",
      "loan_grade_E :  0.0014806297939255555\n",
      "loan_intent_VENTURE :  0.0018208101441513636\n",
      "person_age :  0.0039239772772100895\n",
      "person_home_ownership_MORTGAGE :  0.0052297971398255\n",
      "loan_grade_G :  0.008730586052748868\n",
      "loan_intent_HOMEIMPROVEMENT :  0.01117062037868832\n",
      "person_home_ownership_OWN :  0.013598865308285385\n",
      "loan_grade_D :  0.028397938489024055\n",
      "person_emp_length :  0.028411800060104485\n",
      "loan_intent_DEBTCONSOLIDATION :  0.037010860929980315\n",
      "loan_intent_MEDICAL :  0.042258655574827865\n",
      "loan_grade_C :  0.04753882326395498\n",
      "person_income :  0.08167005300611242\n",
      "person_home_ownership_RENT :  0.1767817381145447\n",
      "loan_int_rate :  0.1981069118512222\n",
      "loan_percent_income :  0.311899141298735\n"
     ]
    }
   ],
   "source": [
    "print(\"Importances des features selon le modèle Arbre de décision\\n\")\n",
    "\n",
    "for i in arg3:\n",
    "    print(col_coef_modDT[0][i],\": \" ,col_coef_modDT[1][i])\n"
   ]
  },
  {
   "cell_type": "code",
   "execution_count": 28,
   "metadata": {},
   "outputs": [
    {
     "name": "stderr",
     "output_type": "stream",
     "text": [
      "/Users/jaryvallimamode/opt/anaconda3/lib/python3.7/site-packages/sklearn/neural_network/multilayer_perceptron.py:566: ConvergenceWarning: Stochastic Optimizer: Maximum iterations (300) reached and the optimization hasn't converged yet.\n",
      "  % self.max_iter, ConvergenceWarning)\n"
     ]
    },
    {
     "name": "stdout",
     "output_type": "stream",
     "text": [
      "nombre Composants 20    training score: 0.929150387777713 . valid score: 0.9211124715760014\n"
     ]
    },
    {
     "name": "stderr",
     "output_type": "stream",
     "text": [
      "/Users/jaryvallimamode/opt/anaconda3/lib/python3.7/site-packages/sklearn/neural_network/multilayer_perceptron.py:566: ConvergenceWarning: Stochastic Optimizer: Maximum iterations (300) reached and the optimization hasn't converged yet.\n",
      "  % self.max_iter, ConvergenceWarning)\n"
     ]
    },
    {
     "name": "stdout",
     "output_type": "stream",
     "text": [
      "nombre Composants 21    training score: 0.9253600793049157 . valid score: 0.9214623054049327\n"
     ]
    },
    {
     "name": "stderr",
     "output_type": "stream",
     "text": [
      "/Users/jaryvallimamode/opt/anaconda3/lib/python3.7/site-packages/sklearn/neural_network/multilayer_perceptron.py:566: ConvergenceWarning: Stochastic Optimizer: Maximum iterations (300) reached and the optimization hasn't converged yet.\n",
      "  % self.max_iter, ConvergenceWarning)\n"
     ]
    },
    {
     "name": "stdout",
     "output_type": "stream",
     "text": [
      "nombre Composants 22    training score: 0.9299667619103155 . valid score: 0.9195382193458107\n"
     ]
    },
    {
     "name": "stderr",
     "output_type": "stream",
     "text": [
      "/Users/jaryvallimamode/opt/anaconda3/lib/python3.7/site-packages/sklearn/neural_network/multilayer_perceptron.py:568: UserWarning: Training interrupted by user.\n",
      "  warnings.warn(\"Training interrupted by user.\")\n",
      "/Users/jaryvallimamode/opt/anaconda3/lib/python3.7/site-packages/sklearn/neural_network/multilayer_perceptron.py:568: UserWarning: Training interrupted by user.\n",
      "  warnings.warn(\"Training interrupted by user.\")\n"
     ]
    },
    {
     "name": "stdout",
     "output_type": "stream",
     "text": [
      "nombre Composants 23    training score: 0.9233774564114525 . valid score: 0.921287388490467\n",
      "nombre Composants 24    training score: 0.8373666102979765 . valid score: 0.8441490292111247\n",
      "nombre Composants 25    training score: 0.829669368476296 . valid score: 0.8371523526324995\n"
     ]
    },
    {
     "name": "stderr",
     "output_type": "stream",
     "text": [
      "/Users/jaryvallimamode/opt/anaconda3/lib/python3.7/site-packages/sklearn/neural_network/multilayer_perceptron.py:568: UserWarning: Training interrupted by user.\n",
      "  warnings.warn(\"Training interrupted by user.\")\n"
     ]
    }
   ],
   "source": [
    "#NN version PCA \n",
    "linear_training_score = []\n",
    "linear_valid_score = []\n",
    "\n",
    "nComp_range = np.arange(20,26,1)\n",
    "\n",
    "for nC in nComp_range:\n",
    "    preProc = sklearn.decomposition.PCA(n_components = int(nC))\n",
    "    preProc.fit(X_trainNorm)\n",
    "    X_train_Transformed = preProc.transform(X_trainNorm)\n",
    "    clf = MLPClassifier(solver='adam', alpha=5e-5, hidden_layer_sizes=(25,5), max_iter = 300)\n",
    "    clf.fit(X_train_Transformed, y_train)\n",
    "    trainscore = clf.score(X_train_Transformed,y_train)\n",
    "    validscore = clf.score(preProc.transform(X_validNorm),y_valid)\n",
    "    print(\"nombre Composants\", nC , \"   training score:\",trainscore, \". valid score:\", validscore)\n",
    "    linear_training_score.append(trainscore)\n",
    "    linear_valid_score.   append(validscore)"
   ]
  },
  {
   "cell_type": "code",
   "execution_count": 29,
   "metadata": {},
   "outputs": [
    {
     "name": "stdout",
     "output_type": "stream",
     "text": [
      "Accuracy avec données de validation:  0.9146405457407731\n"
     ]
    },
    {
     "name": "stderr",
     "output_type": "stream",
     "text": [
      "/Users/jaryvallimamode/opt/anaconda3/lib/python3.7/site-packages/sklearn/neural_network/multilayer_perceptron.py:568: UserWarning: Training interrupted by user.\n",
      "  warnings.warn(\"Training interrupted by user.\")\n"
     ]
    },
    {
     "data": {
      "text/html": [
       "<div>\n",
       "<style scoped>\n",
       "    .dataframe tbody tr th:only-of-type {\n",
       "        vertical-align: middle;\n",
       "    }\n",
       "\n",
       "    .dataframe tbody tr th {\n",
       "        vertical-align: top;\n",
       "    }\n",
       "\n",
       "    .dataframe thead th {\n",
       "        text-align: right;\n",
       "    }\n",
       "</style>\n",
       "<table border=\"1\" class=\"dataframe\">\n",
       "  <thead>\n",
       "    <tr style=\"text-align: right;\">\n",
       "      <th>classe prédite</th>\n",
       "      <th>0</th>\n",
       "      <th>1</th>\n",
       "    </tr>\n",
       "    <tr>\n",
       "      <th>classe réelle</th>\n",
       "      <th></th>\n",
       "      <th></th>\n",
       "    </tr>\n",
       "  </thead>\n",
       "  <tbody>\n",
       "    <tr>\n",
       "      <td>0</td>\n",
       "      <td>4387</td>\n",
       "      <td>102</td>\n",
       "    </tr>\n",
       "    <tr>\n",
       "      <td>1</td>\n",
       "      <td>386</td>\n",
       "      <td>842</td>\n",
       "    </tr>\n",
       "  </tbody>\n",
       "</table>\n",
       "</div>"
      ],
      "text/plain": [
       "classe prédite     0    1\n",
       "classe réelle            \n",
       "0               4387  102\n",
       "1                386  842"
      ]
     },
     "execution_count": 29,
     "metadata": {},
     "output_type": "execute_result"
    }
   ],
   "source": [
    "#NN avec PCA à 24 (meilleur score, donc la PCA ne change pas grand chose)\n",
    "preProcNNPCA = sklearn.decomposition.PCA(n_components = 24)\n",
    "preProcNNPCA.fit(X_trainNorm)\n",
    "X_train_Transformed = preProcNNPCA.transform(X_trainNorm)\n",
    "clfNNPCA = MLPClassifier(solver='adam', alpha=5e-5, hidden_layer_sizes=(25,5), max_iter = 300)\n",
    "clfNNPCA.fit(X_train_Transformed, y_train)\n",
    "y_pred = clfNNPCA.predict(preProcNNPCA.transform(X_validNorm)) \n",
    "\n",
    "cm = pd.crosstab(y_valid, y_pred, rownames=['classe réelle'], colnames=['classe prédite'])\n",
    "h4 = accuracy_score(y_valid, y_pred)\n",
    "print(\"Accuracy avec données de validation: \", h4)\n",
    "cm"
   ]
  },
  {
   "cell_type": "code",
   "execution_count": 24,
   "metadata": {},
   "outputs": [],
   "source": [
    "# record: 0.9331237995460101"
   ]
  },
  {
   "cell_type": "code",
   "execution_count": 42,
   "metadata": {
    "scrolled": true
   },
   "outputs": [
    {
     "name": "stdout",
     "output_type": "stream",
     "text": [
      "nombre Composants 3 MaxDepth 7    training score: 0.8445973526153129 . valid score: 0.8326045128563933\n",
      "nombre Composants 3 MaxDepth 8    training score: 0.8529943436935098 . valid score: 0.833654014343187\n",
      "nombre Composants 3 MaxDepth 9    training score: 0.8610997725814916 . valid score: 0.8327794297708588\n",
      "nombre Composants 3 MaxDepth 10    training score: 0.871945886057496 . valid score: 0.8284065069092181\n",
      "nombre Composants 3 MaxDepth 11    training score: 0.8830252492856726 . valid score: 0.8271820885079587\n",
      "nombre Composants 4 MaxDepth 7    training score: 0.8555600909674034 . valid score: 0.844498863040056\n",
      "nombre Composants 4 MaxDepth 8    training score: 0.8627908332847396 . valid score: 0.8439741122966591\n",
      "nombre Composants 4 MaxDepth 9    training score: 0.8712461368009796 . valid score: 0.8455483645268498\n",
      "nombre Composants 4 MaxDepth 10    training score: 0.8805178144498221 . valid score: 0.8455483645268498\n",
      "nombre Composants 4 MaxDepth 11    training score: 0.8922386144964721 . valid score: 0.8464229490991779\n",
      "nombre Composants 5 MaxDepth 7    training score: 0.8603417108869322 . valid score: 0.8425747769809341\n",
      "nombre Composants 5 MaxDepth 8    training score: 0.8673392034520964 . valid score: 0.8437991953821935\n",
      "nombre Composants 5 MaxDepth 9    training score: 0.8760277567205085 . valid score: 0.8499212873884905\n",
      "nombre Composants 5 MaxDepth 10    training score: 0.885357746807394 . valid score: 0.8479972013293685\n",
      "nombre Composants 5 MaxDepth 11    training score: 0.8959122980931833 . valid score: 0.8453734476123841\n",
      "nombre Composants 6 MaxDepth 7    training score: 0.8609831477054055 . valid score: 0.8404757740073465\n",
      "nombre Composants 6 MaxDepth 8    training score: 0.8680972651466557 . valid score: 0.8434493615532622\n",
      "nombre Composants 6 MaxDepth 9    training score: 0.8774855676715844 . valid score: 0.8441490292111247\n",
      "nombre Composants 6 MaxDepth 10    training score: 0.8890314304041051 . valid score: 0.8437991953821935\n",
      "nombre Composants 6 MaxDepth 11    training score: 0.8978949209866465 . valid score: 0.8430995277243309\n",
      "nombre Composants 7 MaxDepth 7    training score: 0.8577759636130387 . valid score: 0.8420500262375372\n",
      "nombre Composants 7 MaxDepth 8    training score: 0.8631407079129978 . valid score: 0.8417001924086059\n",
      "nombre Composants 7 MaxDepth 9    training score: 0.871945886057496 . valid score: 0.8417001924086059\n",
      "nombre Composants 7 MaxDepth 10    training score: 0.8801679398215639 . valid score: 0.8418751093230715\n",
      "nombre Composants 7 MaxDepth 11    training score: 0.8897311796606217 . valid score: 0.8443239461255904\n",
      "nombre Composants 8 MaxDepth 7    training score: 0.8599918362586739 . valid score: 0.8483470351582998\n",
      "nombre Composants 8 MaxDepth 8    training score: 0.8675141407662255 . valid score: 0.8488717859016967\n",
      "nombre Composants 8 MaxDepth 9    training score: 0.875211382587906 . valid score: 0.8497463704740248\n",
      "nombre Composants 8 MaxDepth 10    training score: 0.8833751239139308 . valid score: 0.8464229490991779\n",
      "nombre Composants 8 MaxDepth 11    training score: 0.8914805528019126 . valid score: 0.8504460381318873\n",
      "nombre Composants 9 MaxDepth 7    training score: 0.8603417108869322 . valid score: 0.8479972013293685\n",
      "nombre Composants 9 MaxDepth 8    training score: 0.8679806402705698 . valid score: 0.8493965366450936\n",
      "nombre Composants 9 MaxDepth 9    training score: 0.8760860691585515 . valid score: 0.8504460381318873\n",
      "nombre Composants 9 MaxDepth 10    training score: 0.8840748731704473 . valid score: 0.8486968689872311\n",
      "nombre Composants 9 MaxDepth 11    training score: 0.8920053647442999 . valid score: 0.8509707888752842\n",
      "nombre Composants 10 MaxDepth 7    training score: 0.8639570820456003 . valid score: 0.8535945425922686\n",
      "nombre Composants 10 MaxDepth 8    training score: 0.8712461368009796 . valid score: 0.854818960993528\n",
      "nombre Composants 10 MaxDepth 9    training score: 0.880342877135693 . valid score: 0.8570928808815812\n",
      "nombre Composants 10 MaxDepth 10    training score: 0.8884483060236749 . valid score: 0.8565681301381843\n",
      "nombre Composants 10 MaxDepth 11    training score: 0.8957373607790542 . valid score: 0.8574427147105125\n",
      "nombre Composants 11 MaxDepth 7    training score: 0.8678057029564407 . valid score: 0.8521952072765436\n",
      "nombre Composants 11 MaxDepth 8    training score: 0.875269695025949 . valid score: 0.8546440440790625\n",
      "nombre Composants 11 MaxDepth 9    training score: 0.8892646801562774 . valid score: 0.8591918838551688\n",
      "nombre Composants 11 MaxDepth 10    training score: 0.9000524811942388 . valid score: 0.8590169669407032\n",
      "nombre Composants 11 MaxDepth 11    training score: 0.9102571578517697 . valid score: 0.860941052999825\n",
      "nombre Composants 12 MaxDepth 7    training score: 0.8780686920520147 . valid score: 0.8654888927759314\n",
      "nombre Composants 12 MaxDepth 8    training score: 0.8871654323867281 . valid score: 0.8665383942627252\n",
      "nombre Composants 12 MaxDepth 9    training score: 0.8999358563181526 . valid score: 0.865663809690397\n",
      "nombre Composants 12 MaxDepth 10    training score: 0.910665344918071 . valid score: 0.8667133111771909\n",
      "nombre Composants 12 MaxDepth 11    training score: 0.92256108227885 . valid score: 0.8691621479797096\n",
      "nombre Composants 13 MaxDepth 7    training score: 0.8787684413085312 . valid score: 0.8649641420325346\n",
      "nombre Composants 13 MaxDepth 8    training score: 0.8876319318910724 . valid score: 0.8674129788350533\n",
      "nombre Composants 13 MaxDepth 9    training score: 0.9001691060703249 . valid score: 0.8677628126639846\n",
      "nombre Composants 13 MaxDepth 10    training score: 0.910665344918071 . valid score: 0.8668882280916564\n",
      "nombre Composants 13 MaxDepth 11    training score: 0.922444457402764 . valid score: 0.8686373972363127\n",
      "nombre Composants 14 MaxDepth 7    training score: 0.8764359437868098 . valid score: 0.8644393912891376\n",
      "nombre Composants 14 MaxDepth 8    training score: 0.881975625400898 . valid score: 0.8633898898023439\n",
      "nombre Composants 14 MaxDepth 9    training score: 0.8943961747040644 . valid score: 0.8639146405457407\n",
      "nombre Composants 14 MaxDepth 10    training score: 0.9041926642952942 . valid score: 0.8612908868287563\n",
      "nombre Composants 14 MaxDepth 11    training score: 0.9135226543821797 . valid score: 0.865663809690397\n",
      "nombre Composants 15 MaxDepth 7    training score: 0.907283223511575 . valid score: 0.8964491866363478\n",
      "nombre Composants 15 MaxDepth 8    training score: 0.9144556533908683 . valid score: 0.8952247682350883\n",
      "nombre Composants 15 MaxDepth 9    training score: 0.9215697708321184 . valid score: 0.8912016792023789\n",
      "nombre Composants 15 MaxDepth 10    training score: 0.9283923260831536 . valid score: 0.8903270946300508\n",
      "nombre Composants 15 MaxDepth 11    training score: 0.9338736952591988 . valid score: 0.8912016792023789\n",
      "nombre Composants 16 MaxDepth 7    training score: 0.9079246603300484 . valid score: 0.8964491866363478\n",
      "nombre Composants 16 MaxDepth 8    training score: 0.9151554026473847 . valid score: 0.8943501836627602\n",
      "nombre Composants 16 MaxDepth 9    training score: 0.922502769840807 . valid score: 0.8947000174916915\n",
      "nombre Composants 16 MaxDepth 10    training score: 0.9305498862907459 . valid score: 0.8945251005772258\n",
      "nombre Composants 16 MaxDepth 11    training score: 0.9374307539798239 . valid score: 0.8915515130313101\n",
      "nombre Composants 17 MaxDepth 7    training score: 0.9135226543821797 . valid score: 0.904320447787301\n",
      "nombre Composants 17 MaxDepth 8    training score: 0.9205201469473439 . valid score: 0.9041455308728354\n",
      "nombre Composants 17 MaxDepth 9    training score: 0.9283340136451105 . valid score: 0.9001224418401259\n",
      "nombre Composants 17 MaxDepth 10    training score: 0.9353898186483177 . valid score: 0.9001224418401259\n",
      "nombre Composants 17 MaxDepth 11    training score: 0.9417458743950085 . valid score: 0.898198355781004\n",
      "nombre Composants 18 MaxDepth 7    training score: 0.9145722782669543 . valid score: 0.9060696169319573\n",
      "nombre Composants 18 MaxDepth 8    training score: 0.9221528952125488 . valid score: 0.901521777155851\n",
      "nombre Composants 18 MaxDepth 9    training score: 0.9297918245961864 . valid score: 0.9018716109847822\n",
      "nombre Composants 18 MaxDepth 10    training score: 0.9367310047233075 . valid score: 0.901521777155851\n",
      "nombre Composants 18 MaxDepth 11    training score: 0.9428538107178261 . valid score: 0.8962742697218821\n"
     ]
    },
    {
     "name": "stdout",
     "output_type": "stream",
     "text": [
      "nombre Composants 19 MaxDepth 7    training score: 0.9146889031430404 . valid score: 0.9046702816162323\n",
      "nombre Composants 19 MaxDepth 8    training score: 0.9223861449647209 . valid score: 0.9011719433269197\n",
      "nombre Composants 19 MaxDepth 9    training score: 0.9301416992244446 . valid score: 0.901521777155851\n",
      "nombre Composants 19 MaxDepth 10    training score: 0.9367893171613505 . valid score: 0.8985481896099353\n",
      "nombre Composants 19 MaxDepth 11    training score: 0.942562248527611 . valid score: 0.8953996851495539\n",
      "nombre Composants 20 MaxDepth 7    training score: 0.9147472155810834 . valid score: 0.9055448661885604\n",
      "nombre Composants 20 MaxDepth 8    training score: 0.92256108227885 . valid score: 0.9022214448137135\n",
      "nombre Composants 20 MaxDepth 9    training score: 0.9300833867864016 . valid score: 0.9025712786426447\n",
      "nombre Composants 20 MaxDepth 10    training score: 0.9369642544754796 . valid score: 0.8988980234388665\n",
      "nombre Composants 20 MaxDepth 11    training score: 0.9424456236515248 . valid score: 0.8957495189784852\n",
      "nombre Composants 21 MaxDepth 7    training score: 0.9153303399615138 . valid score: 0.9037956970439042\n",
      "nombre Composants 21 MaxDepth 8    training score: 0.9227943320310222 . valid score: 0.9027461955571103\n",
      "nombre Composants 21 MaxDepth 9    training score: 0.9297335121581434 . valid score: 0.9001224418401259\n",
      "nombre Composants 21 MaxDepth 10    training score: 0.9374307539798239 . valid score: 0.8988980234388665\n",
      "nombre Composants 21 MaxDepth 11    training score: 0.944428246544988 . valid score: 0.8960993528074165\n",
      "nombre Composants 22 MaxDepth 7    training score: 0.9153303399615138 . valid score: 0.9046702816162323\n",
      "nombre Composants 22 MaxDepth 8    training score: 0.9227943320310222 . valid score: 0.9027461955571103\n",
      "nombre Composants 22 MaxDepth 9    training score: 0.9299667619103155 . valid score: 0.8992478572677978\n",
      "nombre Composants 22 MaxDepth 10    training score: 0.9377806286080821 . valid score: 0.8973237712086759\n",
      "nombre Composants 22 MaxDepth 11    training score: 0.944428246544988 . valid score: 0.8974986881231415\n",
      "nombre Composants 23 MaxDepth 7    training score: 0.9153303399615138 . valid score: 0.9044953647017666\n",
      "nombre Composants 23 MaxDepth 8    training score: 0.9227943320310222 . valid score: 0.9023963617281792\n",
      "nombre Composants 23 MaxDepth 9    training score: 0.9297918245961864 . valid score: 0.8990729403533322\n",
      "nombre Composants 23 MaxDepth 10    training score: 0.937664003731996 . valid score: 0.8997726080111946\n",
      "nombre Composants 23 MaxDepth 11    training score: 0.9446614962971602 . valid score: 0.8990729403533322\n",
      "nombre Composants 24 MaxDepth 7    training score: 0.9153303399615138 . valid score: 0.904320447787301\n",
      "nombre Composants 24 MaxDepth 8    training score: 0.9227943320310222 . valid score: 0.9022214448137135\n",
      "nombre Composants 24 MaxDepth 9    training score: 0.9297918245961864 . valid score: 0.8992478572677978\n",
      "nombre Composants 24 MaxDepth 10    training score: 0.9377223161700391 . valid score: 0.8973237712086759\n",
      "nombre Composants 24 MaxDepth 11    training score: 0.9448364336112893 . valid score: 0.8964491866363478\n",
      "nombre Composants 25 MaxDepth 7    training score: 0.9153303399615138 . valid score: 0.904320447787301\n",
      "nombre Composants 25 MaxDepth 8    training score: 0.9227360195929791 . valid score: 0.9020465278992479\n",
      "nombre Composants 25 MaxDepth 9    training score: 0.9297918245961864 . valid score: 0.8997726080111946\n",
      "nombre Composants 25 MaxDepth 10    training score: 0.937605691293953 . valid score: 0.8983732726954696\n",
      "nombre Composants 25 MaxDepth 11    training score: 0.9446614962971602 . valid score: 0.8976736050376072\n"
     ]
    }
   ],
   "source": [
    "#DT avec PCA \n",
    "linear_training_score = []\n",
    "linear_valid_score = []\n",
    "\n",
    "nComp_range = np.arange(3,26,1)\n",
    "for nC in nComp_range:\n",
    "    md = np.arange(7,12)\n",
    "    for i in md:\n",
    "        preProc = sklearn.decomposition.PCA(n_components = int(nC)) \n",
    "        preProc.fit(X_trainNorm)\n",
    "        X_train_Transformed = preProc.transform(X_trainNorm)\n",
    "        clf = tree.DecisionTreeClassifier(max_depth = i )\n",
    "        clf = clf.fit(X_train_Transformed, y_train)\n",
    "        trainscore = clf.score(X_train_Transformed,y_train)\n",
    "        validscore = clf.score(preProc.transform(X_testNorm),y_test)\n",
    "        print(\"nombre Composants\", nC , \"MaxDepth\", i ,\"   training score:\",trainscore, \". valid score:\", validscore)\n",
    "        linear_training_score.append(trainscore)\n",
    "        linear_valid_score.append(validscore)"
   ]
  },
  {
   "cell_type": "code",
   "execution_count": null,
   "metadata": {},
   "outputs": [],
   "source": [
    "#ne marche pas on a 0.9041382922996333 au mieux"
   ]
  },
  {
   "cell_type": "code",
   "execution_count": 30,
   "metadata": {},
   "outputs": [
    {
     "data": {
      "image/png": "[encoded data removed]",
      "text/plain": [
       "<Figure size 432x288 with 1 Axes>"
      ]
     },
     "metadata": {
      "needs_background": "light"
     },
     "output_type": "display_data"
    }
   ],
   "source": [
    "fig = plt.figure()\n",
    "\n",
    "\n",
    "x = [1,2,3,4,5]\n",
    "height = [h1,h2,h3,h4,0.9041382922996333]\n",
    "width = 0.5\n",
    "BarName = ['LR','NN','DT','NN+PCA','DT+PCA']\n",
    "\n",
    "plt.bar(x, height, width, color=(0.65098041296005249, 0.80784314870834351, 0.89019608497619629, 1.0) )\n",
    "\n",
    "plt.xlim(0,6)\n",
    "plt.ylim(0.75,1)\n",
    "plt.grid()\n",
    "\n",
    "plt.ylabel('Score')\n",
    "plt.title('Score/Méthode')\n",
    "\n",
    "pylab.xticks(x, BarName, rotation=40)\n",
    "plt.show()"
   ]
  },
  {
   "cell_type": "code",
   "execution_count": null,
   "metadata": {},
   "outputs": [],
   "source": []
  }
 ],
 "metadata": {
  "kernelspec": {
   "display_name": "Python 3",
   "language": "python",
   "name": "python3"
  },
  "language_info": {
   "codemirror_mode": {
    "name": "ipython",
    "version": 3
   },
   "file_extension": ".py",
   "mimetype": "text/x-python",
   "name": "python",
   "nbconvert_exporter": "python",
   "pygments_lexer": "ipython3",
   "version": "3.7.4"
  }
 },
 "nbformat": 4,
 "nbformat_minor": 4
}
